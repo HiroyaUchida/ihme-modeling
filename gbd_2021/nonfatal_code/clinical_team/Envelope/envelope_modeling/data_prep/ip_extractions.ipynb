{
 "cells": [
  {
   "cell_type": "code",
   "execution_count": null,
   "metadata": {},
   "outputs": [],
   "source": [
    "## Goal is to download and process representative inpatient hospital data to upload into the inpatient envelope model\n",
    "## This script is going to launch inpatient_hospital_extraction "
   ]
  },
  {
   "cell_type": "code",
   "execution_count": null,
   "metadata": {},
   "outputs": [],
   "source": [
    "## where your code lives\n",
    "home_dir = 'FILEPATH'\n",
    "## your project\n",
    "proj = 'proj_hospital'"
   ]
  },
  {
   "cell_type": "code",
   "execution_count": null,
   "metadata": {},
   "outputs": [],
   "source": [
    "import pandas as pd\n",
    "import numpy as np\n",
    "import os as os\n",
    "import glob as glob\n",
    "\n",
    "import requests\n",
    "\n",
    "import copy as copy\n",
    "\n",
    "from multiprocessing import Pool\n",
    "\n",
    "os.chdir(home_dir)\n",
    "from extractor import gdoc_query, extractor\n",
    "from db_queries import get_population, get_covariate_estimates, get_model_results\n",
    "from functions_to_prep_extractions import *\n",
    "from cluster_utilities import *\n",
    "from elmo import run"
   ]
  },
  {
   "cell_type": "code",
   "execution_count": null,
   "metadata": {},
   "outputs": [],
   "source": [
    "# Clear folder\n",
    "# Removes directory if it already exists\n",
    "!rm -r FILEPATH\n",
    "\n",
    "# Creates new directory\n",
    "!mkdir FILEPATH"
   ]
  },
  {
   "cell_type": "code",
   "execution_count": null,
   "metadata": {},
   "outputs": [],
   "source": [
    "names = ['ITA_HID','ECU_INEC','AUT_HDD','UK_HOSPITAL_STATISTICS','USA_NHDS_79_10',\n",
    "         'SWE_Patient_Register_15_16','BRA_SIH','PHL_HICC','NOR_NIPH_08_12',\n",
    "         'NZL_NMDS','SWE_PATIENT_REGISTRY_98_12','EUR_HMDB',\n",
    "         'USA_HCUP_SID_03','USA_HCUP_SID_04','USA_HCUP_SID_05','USA_HCUP_SID_06',\n",
    "         'USA_HCUP_SID_07','USA_HCUP_SID_08','USA_HCUP_SID_09']"
   ]
  },
  {
   "cell_type": "code",
   "execution_count": null,
   "metadata": {},
   "outputs": [],
   "source": [
    "data_dir = 'FILEPATH'\n",
    "write_dir = 'FILEPATH'"
   ]
  },
  {
   "cell_type": "code",
   "execution_count": null,
   "metadata": {
    "scrolled": true
   },
   "outputs": [],
   "source": [
    "## Submit script\n",
    "for name in names:\n",
    "    os.chdir(home_dir)\n",
    "    name_arg = name + '_inp_extraction'\n",
    "    drop_birth = 'F' # If you want to run it dropping live births or not\n",
    "    call = qsub(1,30,name_arg, home_dir+'inpatient_hospital_extraction.py',\n",
    "                project = proj,\n",
    "                script_args = [write_dir, data_dir, name, drop_birth])\n",
    "    call = \" \".join(call)\n",
    "    #print(call)\n",
    "    os.system(call)"
   ]
  }
 ],
 "metadata": {
  "kernelspec": {
   "display_name": "Python 3",
   "language": "python",
   "name": "python3"
  },
  "language_info": {
   "codemirror_mode": {
    "name": "ipython",
    "version": 3
   },
   "file_extension": ".py",
   "mimetype": "text/x-python",
   "name": "python",
   "nbconvert_exporter": "python",
   "pygments_lexer": "ipython3",
   "version": "3.7.4"
  }
 },
 "nbformat": 4,
 "nbformat_minor": 2
}
